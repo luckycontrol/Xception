{
 "cells": [
  {
   "cell_type": "code",
   "execution_count": 1,
   "metadata": {},
   "outputs": [],
   "source": [
    "import torch\n",
    "import torch.nn as nn"
   ]
  },
  {
   "cell_type": "code",
   "execution_count": null,
   "metadata": {},
   "outputs": [],
   "source": [
    "class SeparableConv(nn.Sequential):\n",
    "    def __init__(self, in_channels: int, out_channels: int, kernel_size: int, stride: int, padding: str):\n",
    "        super().__init__(\n",
    "            #pointwise conv\n",
    "            nn.Conv2d(in_channels, out_channels, 1),\n",
    "            #depthwise conv\n",
    "            nn.Conv2d(\n",
    "                out_channels, out_channels, \n",
    "                kernel_size=kernel_size,\n",
    "                stride=stride, \n",
    "                padding=padding,\n",
    "                groups=out_channels\n",
    "            )\n",
    "        )"
   ]
  }
 ],
 "metadata": {
  "kernelspec": {
   "display_name": "Python 3.7.12 ('torch')",
   "language": "python",
   "name": "python3"
  },
  "language_info": {
   "codemirror_mode": {
    "name": "ipython",
    "version": 3
   },
   "file_extension": ".py",
   "mimetype": "text/x-python",
   "name": "python",
   "nbconvert_exporter": "python",
   "pygments_lexer": "ipython3",
   "version": "3.7.12"
  },
  "orig_nbformat": 4,
  "vscode": {
   "interpreter": {
    "hash": "04c55434ed2b08bb5bf53ae5f55862aa0e3be3e7e24f24482bddca5922bab6dd"
   }
  }
 },
 "nbformat": 4,
 "nbformat_minor": 2
}
